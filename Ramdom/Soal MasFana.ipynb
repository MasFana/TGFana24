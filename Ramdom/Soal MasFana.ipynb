{
 "cells": [
  {
   "cell_type": "markdown",
   "metadata": {},
   "source": [
    "[ Hard ]\n",
    "Fana ingin mengirim pesan kepada teman aliennya,\n",
    "Bahasa alien ini mirip seperti bahasa Caesar di jaman romawi kuno\n",
    "Buatlah algoritma yang dapat mengtranslate apa yang ingin dikatakan oleh fana menjadi bahasa alien\n",
    "\n",
    "Constrain \n",
    "n = 26\n",
    "x = (x + x) % n + y\n",
    "\n",
    "String mempertahankan Kapitalisasi dan juga tanda bacanya"
   ]
  },
  {
   "cell_type": "code",
   "execution_count": 3,
   "metadata": {},
   "outputs": [
    {
     "name": "stdout",
     "output_type": "stream",
     "text": [
      "wAMOAA wagm ycsau,Mmqc mymqmcm ycsau :c\n",
      "Aga, Yma, Ymwca, quYaim..... 0_0\n",
      "Eicwwww... Uoscmygmm Gaia iuuuu..... UG\n"
     ]
    }
   ],
   "source": [
    "def cip(x):\n",
    "    y = []\n",
    "    for i in x:\n",
    "        k = ord(i)\n",
    "        if 65 <= k <= 90:\n",
    "            k = (k + k) % 26 + 65\n",
    "            y.append(chr(k))\n",
    "        elif 97 <= k <= 122:\n",
    "            k = (k + k) % 26 + 97\n",
    "            y.append(chr(k))\n",
    "        else:\n",
    "            y.append(i)\n",
    "    return ''.join(y)\n",
    "\n",
    "i = input('')\n",
    "print(cip(i))"
   ]
  },
  {
   "cell_type": "markdown",
   "metadata": {},
   "source": [
    "[ Medium ]\n",
    "Diberikan sebuah array integer nums yang tidak terurut. Kembalikan bilangan bulat positif terkecil yang tidak ada dalam nums."
   ]
  },
  {
   "cell_type": "code",
   "execution_count": 10,
   "metadata": {},
   "outputs": [
    {
     "name": "stdout",
     "output_type": "stream",
     "text": [
      "13\n"
     ]
    }
   ],
   "source": [
    "def firstmiss(nums):\n",
    "    n = len(nums)\n",
    "    seen = [False] * (n + 1)\n",
    "    for num in nums:\n",
    "        if 0 < num <= n:\n",
    "            seen[num] = True\n",
    "    for i in range(1, n + 1):\n",
    "        if not seen[i]:\n",
    "            return i\n",
    "    return n + 1\n",
    "\n",
    "x = input(\"\")\n",
    "x = x.split(\",\")\n",
    "for i in range(len(x)):\n",
    "    x[i] = int(x[i])\n",
    "a = firstmiss(x)\n",
    "print(a)"
   ]
  },
  {
   "cell_type": "markdown",
   "metadata": {},
   "source": [
    "[ Easy ]\n",
    "Kamu diberi string kalimat, baliklah urutan dari kalimat tersebut\n",
    "Kembalikan sebuah string dari kata-kata dalam urutan terbalik yang digabungkan dengan satu spasi.\n",
    "Perhatikan bahwa string input mungkin memiliki satu atau lebih spasi dan output string hanya boleh memiliki 1 spasi\n"
   ]
  },
  {
   "cell_type": "code",
   "execution_count": 13,
   "metadata": {},
   "outputs": [
    {
     "name": "stdout",
     "output_type": "stream",
     "text": [
      "TETETTRERETETT tetet tetet tet Tet gas Oke gas Oke\n"
     ]
    }
   ],
   "source": [
    "def balik_kata(s):\n",
    "    kata_kata = s.split()\n",
    "    kata_kata_terbalik = kata_kata[::-1]\n",
    "    hasil = ' '.join(kata_kata_terbalik)\n",
    "    return hasil\n",
    "\n",
    "# Contoh penggunaan\n",
    "s = input(\"\")\n",
    "hasil = balik_kata(s)\n",
    "print(hasil)  # Output: \"spasi dengan string contoh\"\n"
   ]
  }
 ],
 "metadata": {
  "kernelspec": {
   "display_name": "Python 3",
   "language": "python",
   "name": "python3"
  },
  "language_info": {
   "codemirror_mode": {
    "name": "ipython",
    "version": 3
   },
   "file_extension": ".py",
   "mimetype": "text/x-python",
   "name": "python",
   "nbconvert_exporter": "python",
   "pygments_lexer": "ipython3",
   "version": "3.12.3"
  }
 },
 "nbformat": 4,
 "nbformat_minor": 2
}
