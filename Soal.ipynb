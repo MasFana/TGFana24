{
 "cells": [
  {
   "cell_type": "markdown",
   "metadata": {},
   "source": [
    "Fana ingin mengirim pesan kepada teman aliennya,\n",
    "Bahasa alien ini mirip seperti bahasa Caesar di jaman romawi kuno\n",
    "Buatlah algoritma yang dapat mengtranslate apa yang ingin dikatakan oleh fana menjadi bahasa alien\n",
    "\n",
    "x = (x + x) % n + y\n",
    "\n",
    "Input :\n",
    "\n",
    "Hello, World!\n",
    "MasFana =.=\n",
    "Apalah ini alamak 0_0\n",
    "\n",
    "Output :\n",
    "\n",
    "Ouiio, Souis!\n",
    "YmwKmmm =.=\n",
    "Aqmima cmc mimkmg 0_0"
   ]
  },
  {
   "cell_type": "code",
   "execution_count": 56,
   "metadata": {},
   "outputs": [
    {
     "name": "stdout",
     "output_type": "stream",
     "text": [
      "Ouiio, Souis!\n",
      "YmwKmmm =.=\n",
      "Aqmima cmc mimkmg 0_0\n"
     ]
    }
   ],
   "source": [
    "def cip(x):\n",
    "    y = []\n",
    "    for i in x:\n",
    "        k = ord(i)\n",
    "        if 65 <= k <= 90:\n",
    "            k = (k + k) % 26 + 65\n",
    "            y.append(chr(k))\n",
    "        elif 97 <= k <= 122:\n",
    "            k = (k + k) % 26 + 97\n",
    "            y.append(chr(k))\n",
    "        else:\n",
    "            y.append(i)\n",
    "    return ''.join(y)\n",
    "\n",
    "lk = ['Hello, World!','MasFana =.=','Apalah ini alamak 0_0']\n",
    "for i in lk:\n",
    "    print(cip(i))"
   ]
  },
  {
   "cell_type": "code",
   "execution_count": null,
   "metadata": {},
   "outputs": [],
   "source": []
  }
 ],
 "metadata": {
  "kernelspec": {
   "display_name": "Python 3",
   "language": "python",
   "name": "python3"
  },
  "language_info": {
   "codemirror_mode": {
    "name": "ipython",
    "version": 3
   },
   "file_extension": ".py",
   "mimetype": "text/x-python",
   "name": "python",
   "nbconvert_exporter": "python",
   "pygments_lexer": "ipython3",
   "version": "3.12.3"
  }
 },
 "nbformat": 4,
 "nbformat_minor": 2
}
